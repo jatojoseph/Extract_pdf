{
 "cells": [
  {
   "cell_type": "code",
   "execution_count": null,
   "metadata": {},
   "outputs": [],
   "source": [
    "import tabula\n",
    "import pandas as pd"
   ]
  },
  {
   "cell_type": "code",
   "execution_count": null,
   "metadata": {},
   "outputs": [],
   "source": [
    "#declare the path of your file\n",
    "file_path = \"/path/to/pdf_file/data.pdf\" #Convert your file\n",
    "df = tabula.read_pdf(file_path)"
   ]
  },
  {
   "cell_type": "code",
   "execution_count": null,
   "metadata": {},
   "outputs": [],
   "source": [
    "#file is in the same folder as your program\n",
    "file_path = \"./Telecommination_Sept_2019.pdf\" #Convert your filedf = tabula.read_pdf(file_path)"
   ]
  },
  {
   "cell_type": "markdown",
   "metadata": {},
   "source": [
    "But there’s a problem. This particular file has six different pages of data. What if we want to read all of the pages? Well, all you need to do is pass the pages=’all’ flag to Tabula, as follows:"
   ]
  },
  {
   "cell_type": "code",
   "execution_count": null,
   "metadata": {},
   "outputs": [],
   "source": [
    "#file is in the same folder as your program\n",
    "file_path = \"./Telecommination_Sept_2019.pdf\" #Convert your filedf = tabula.read_pdf(file_path, pages='all')"
   ]
  }
 ],
 "metadata": {
  "language_info": {
   "name": "python"
  },
  "orig_nbformat": 4
 },
 "nbformat": 4,
 "nbformat_minor": 2
}
